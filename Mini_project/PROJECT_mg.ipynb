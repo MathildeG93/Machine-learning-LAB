{
  "nbformat": 4,
  "nbformat_minor": 0,
  "metadata": {
    "colab": {
      "provenance": []
    },
    "kernelspec": {
      "name": "python3",
      "display_name": "Python 3"
    },
    "language_info": {
      "name": "python"
    },
    "accelerator": "GPU",
    "gpuClass": "standard"
  },
  "cells": [
    {
      "cell_type": "markdown",
      "source": [
        "# MLF_MPA : Project\n",
        "## Classification of wireless transmitters"
      ],
      "metadata": {
        "id": "3sRJFp9mjfS_"
      }
    },
    {
      "cell_type": "code",
      "source": [
        "#librairies needed\n",
        "import math\n",
        "from keras.optimizers import *\n",
        "from keras.datasets import cifar10\n",
        "from keras.utils import to_categorical\n",
        "import matplotlib.pyplot as plt\n",
        "import matplotlib\n",
        "import numpy as np\n",
        "import cv2\n",
        "import pandas as pd\n",
        "import numpy as np\n",
        "from tensorflow.keras.models import Sequential\n",
        "from tensorflow.keras.layers import Dense\n",
        "import tensorflow as tf\n",
        "from sklearn.ensemble import RandomForestClassifier\n",
        "from sklearn.model_selection import validation_curve\n",
        "from sklearn.model_selection import train_test_split\n",
        "from sklearn.preprocessing import StandardScaler\n",
        "from sklearn import svm\n",
        "from sklearn.pipeline import make_pipeline\n",
        "from sklearn.svm import SVC\n",
        "from sklearn.preprocessing  import OneHotEncoder\n",
        "\n",
        "\n",
        "font = {'weight' : 'bold',\n",
        "        'size'   : 12}\n",
        "\n",
        "matplotlib.rc('font', **font)\n"
      ],
      "metadata": {
        "id": "YMJJbAuAkso4"
      },
      "execution_count": 12,
      "outputs": []
    },
    {
      "cell_type": "markdown",
      "source": [
        "### 1. Load the Dataset"
      ],
      "metadata": {
        "id": "JIDlkawlmC1c"
      }
    },
    {
      "cell_type": "code",
      "source": [
        "from google.colab import drive\n",
        "drive.mount('/content/drive')"
      ],
      "metadata": {
        "colab": {
          "base_uri": "https://localhost:8080/"
        },
        "id": "l5S2aTOMW3lI",
        "outputId": "1da84c93-118a-43c9-e72c-c664d7569ac2"
      },
      "execution_count": 13,
      "outputs": [
        {
          "output_type": "stream",
          "name": "stdout",
          "text": [
            "Drive already mounted at /content/drive; to attempt to forcibly remount, call drive.mount(\"/content/drive\", force_remount=True).\n"
          ]
        }
      ]
    },
    {
      "cell_type": "code",
      "source": [
        "path_to_y_train = '/content/drive/MyDrive/Colab Notebooks/y_train.csv' # My own PATH\n",
        "y_train_dataset = pd.read_csv(path_to_y_train)\n",
        "\n",
        "\n",
        "path_to_x_train = '/content/drive/MyDrive/Colab Notebooks/x_train.csv' # My own PATH\n",
        "x_train_dataset = pd.read_csv(path_to_x_train)\n",
        "\n",
        "path_to_x_test = '/content/drive/MyDrive/Colab Notebooks/x_test.csv' # My own PATH\n",
        "x_test_dataset = pd.read_csv(path_to_x_test)\n",
        "\n",
        "#remove double in each dataset\n",
        "x_test_dataset = pd.get_dummies(x_test_dataset)\n",
        "#y_train_dataset = pd.get_dummies(y_train_dataset)\n",
        "x_train_dataset = pd.get_dummies(x_train_dataset)"
      ],
      "metadata": {
        "id": "ZPcFxLBcmCZ6"
      },
      "execution_count": 14,
      "outputs": []
    },
    {
      "cell_type": "markdown",
      "source": [
        "### 2. Data Examination"
      ],
      "metadata": {
        "id": "sR4wJHXncMEL"
      }
    },
    {
      "cell_type": "code",
      "source": [
        "#check x_train dataset\n",
        "#x_train_dataset"
      ],
      "metadata": {
        "id": "Ni4DJcQMVvNl"
      },
      "execution_count": 15,
      "outputs": []
    },
    {
      "cell_type": "markdown",
      "source": [
        "After analyzing the datasets we have 12 features in total and 15360 samples in \"x_train\", which is a lot. We only have numeric datas in our dataset. Futhermore, we do not have any missing datas. Therefore, the best reprocessing steps appear to be the suppression of features that arer not needed like : the unnamed, m_power, Tosc, Tmix features."
      ],
      "metadata": {
        "id": "Ey_Axs4xZWiX"
      }
    },
    {
      "cell_type": "code",
      "source": [
        "#show X_test\n",
        "#x_test_dataset\n"
      ],
      "metadata": {
        "id": "etWh2iFiP8G9"
      },
      "execution_count": 16,
      "outputs": []
    },
    {
      "cell_type": "markdown",
      "source": [
        "### 3. Preprocessing of the datas"
      ],
      "metadata": {
        "id": "Bk5eFWTRZRna"
      }
    },
    {
      "cell_type": "code",
      "execution_count": 17,
      "metadata": {
        "id": "MMP_H071jaEa"
      },
      "outputs": [],
      "source": [
        "#remove the non-necessary datas\n",
        "x_train_dataset = x_train_dataset.drop(columns=['Unnamed: 0', 'm_power', 'Tosc', 'Tmix'])\n",
        "\n",
        "#remove all missing data\n",
        "x_train_dataset = x_train_dataset.dropna()\n",
        "\n",
        "#remove the non-necessary datas\n",
        "x_test_dataset = x_test_dataset.drop(columns=['Unnamed: 0', 'm_power', 'Tosc', 'Tmix'])\n",
        "x_test_dataset.shape\n",
        "\n",
        "#remove all missing data\n",
        "x_test_dataset = x_test_dataset.dropna()\n"
      ]
    },
    {
      "cell_type": "code",
      "source": [
        "#check the shape of x_train dataset\n",
        "x_train_dataset.shape"
      ],
      "metadata": {
        "colab": {
          "base_uri": "https://localhost:8080/"
        },
        "id": "qKeg_hmclD1a",
        "outputId": "6283976b-84c7-445f-c484-b0f498a992ac"
      },
      "execution_count": 18,
      "outputs": [
        {
          "output_type": "execute_result",
          "data": {
            "text/plain": [
              "(15360, 8)"
            ]
          },
          "metadata": {},
          "execution_count": 18
        }
      ]
    },
    {
      "cell_type": "markdown",
      "source": [
        "### 4. Hot encode"
      ],
      "metadata": {
        "id": "ZgI4dESzFkjg"
      }
    },
    {
      "cell_type": "code",
      "source": [
        "y_train_dataset_coded = to_categorical(y_train_dataset.iloc[: , 1:].to_numpy().reshape(1,-1)[0]-1) \n",
        "y_train_dataset = pd.DataFrame(y_train_dataset_coded)\n"
      ],
      "metadata": {
        "id": "4rVM6WuIPhi8"
      },
      "execution_count": 19,
      "outputs": []
    },
    {
      "cell_type": "code",
      "source": [
        "#importance of each feature \n",
        "#my_importance_model = RandomForestClassifier(n_estimators=10000, random_state=0, n_jobs=-1)\n",
        "#my_importance_model.fit(x_train_dataset, y_train_dataset)\n",
        "#print(my_importance_model.feature_importances_)"
      ],
      "metadata": {
        "id": "LJc3R5BA4f-r"
      },
      "execution_count": 20,
      "outputs": []
    },
    {
      "cell_type": "markdown",
      "source": [
        "### 5. Train/Test Split"
      ],
      "metadata": {
        "id": "VRWIF1mcDXOn"
      }
    },
    {
      "cell_type": "code",
      "source": [
        "#split train + validation data \n",
        "x_train_dataset, x_test_dataset, y_train_dataset, y_test = train_test_split(x_train_dataset, y_train_dataset, test_size = 0.25, random_state=34)\n",
        "\n",
        "# create scaler\n",
        "scaler = StandardScaler()\n",
        "x_test_dataset = scaler.fit_transform(x_test_dataset)\n",
        "\n",
        "# create scaler\n",
        "scaler = StandardScaler()\n",
        "y_train_dataset = scaler.fit_transform(y_train_dataset)\n",
        "y_train_dataset\n",
        "\n"
      ],
      "metadata": {
        "id": "MXNSHqmqDWNC",
        "colab": {
          "base_uri": "https://localhost:8080/"
        },
        "outputId": "f66cfdf8-69fe-4bfe-ab0f-474d354c3cd1"
      },
      "execution_count": 21,
      "outputs": [
        {
          "output_type": "execute_result",
          "data": {
            "text/plain": [
              "array([[-0.37916338, -0.37465748, -0.3733004 , ..., -0.37495875,\n",
              "         2.606591  , -0.37886387],\n",
              "       [ 2.6373854 , -0.37465748, -0.3733004 , ..., -0.37495875,\n",
              "        -0.38364285, -0.37886387],\n",
              "       [-0.37916338, -0.37465748,  2.6788077 , ..., -0.37495875,\n",
              "        -0.38364285, -0.37886387],\n",
              "       ...,\n",
              "       [-0.37916338, -0.37465748, -0.3733004 , ..., -0.37495875,\n",
              "        -0.38364285, -0.37886387],\n",
              "       [-0.37916338, -0.37465748, -0.3733004 , ..., -0.37495875,\n",
              "         2.606591  , -0.37886387],\n",
              "       [-0.37916338, -0.37465748, -0.3733004 , ..., -0.37495875,\n",
              "         2.606591  , -0.37886387]], dtype=float32)"
            ]
          },
          "metadata": {},
          "execution_count": 21
        }
      ]
    },
    {
      "cell_type": "markdown",
      "source": [
        "### 6. Creating the model"
      ],
      "metadata": {
        "id": "t2_xf8XafRqd"
      }
    },
    {
      "cell_type": "code",
      "source": [
        "import keras\n",
        "from keras.models import Sequential\n",
        "from keras.layers import Dense\n",
        "\n",
        "\n",
        "\n",
        "# choosing model\n",
        "model = Sequential()\n",
        "model.add(Dense(120, input_dim=8, activation='relu', name=\"layer1\"))\n",
        "model.add(Dense(64, activation='relu', name=\"layer2\"))\n",
        "model.add(Dense(8, activation='softmax', name=\"layer3\"))\n",
        "\n",
        "#clf = svm.SVC()\n",
        "\n",
        "optimizer = tf.keras.optimizers.Adam(learning_rate=0.001)\n",
        "model.compile(loss='categorical_crossentropy', optimizer=optimizer, metrics=['accuracy'])\n",
        "\n",
        "history = model.fit(x_train_dataset, y_train_dataset, batch_size=32, epochs=30, verbose=2, validation_data =(x_test_dataset, y_test))\n"
      ],
      "metadata": {
        "id": "y3RVRtSzhbTi",
        "colab": {
          "base_uri": "https://localhost:8080/"
        },
        "outputId": "ea319fa3-c252-44ac-f35c-802e8babc021"
      },
      "execution_count": 22,
      "outputs": [
        {
          "output_type": "stream",
          "name": "stdout",
          "text": [
            "Epoch 1/30\n",
            "360/360 - 1s - loss: -2.5565e+04 - accuracy: 0.2821 - val_loss: 195.5142 - val_accuracy: 0.2599 - 1s/epoch - 4ms/step\n",
            "Epoch 2/30\n",
            "360/360 - 1s - loss: -4.5111e+05 - accuracy: 0.2528 - val_loss: 1319.4039 - val_accuracy: 0.2852 - 732ms/epoch - 2ms/step\n",
            "Epoch 3/30\n",
            "360/360 - 1s - loss: -1.9542e+06 - accuracy: 0.2519 - val_loss: 3723.9678 - val_accuracy: 0.2039 - 1s/epoch - 3ms/step\n",
            "Epoch 4/30\n",
            "360/360 - 1s - loss: -5.0502e+06 - accuracy: 0.2542 - val_loss: 7442.5654 - val_accuracy: 0.2911 - 785ms/epoch - 2ms/step\n",
            "Epoch 5/30\n",
            "360/360 - 1s - loss: -1.0124e+07 - accuracy: 0.2502 - val_loss: 12894.4355 - val_accuracy: 0.2128 - 884ms/epoch - 2ms/step\n",
            "Epoch 6/30\n",
            "360/360 - 1s - loss: -1.7487e+07 - accuracy: 0.2517 - val_loss: 19818.2012 - val_accuracy: 0.2953 - 706ms/epoch - 2ms/step\n",
            "Epoch 7/30\n",
            "360/360 - 1s - loss: -2.7349e+07 - accuracy: 0.2503 - val_loss: 28847.9375 - val_accuracy: 0.3956 - 676ms/epoch - 2ms/step\n",
            "Epoch 8/30\n",
            "360/360 - 1s - loss: -3.9533e+07 - accuracy: 0.2530 - val_loss: 39467.3125 - val_accuracy: 0.3987 - 656ms/epoch - 2ms/step\n",
            "Epoch 9/30\n",
            "360/360 - 1s - loss: -5.4539e+07 - accuracy: 0.2503 - val_loss: 52156.4844 - val_accuracy: 0.3964 - 628ms/epoch - 2ms/step\n",
            "Epoch 10/30\n",
            "360/360 - 1s - loss: -7.2426e+07 - accuracy: 0.2508 - val_loss: 66833.3828 - val_accuracy: 0.3237 - 589ms/epoch - 2ms/step\n",
            "Epoch 11/30\n",
            "360/360 - 1s - loss: -9.3050e+07 - accuracy: 0.2490 - val_loss: 83467.2734 - val_accuracy: 0.4060 - 686ms/epoch - 2ms/step\n",
            "Epoch 12/30\n",
            "360/360 - 1s - loss: -1.1607e+08 - accuracy: 0.2530 - val_loss: 102259.3906 - val_accuracy: 0.4065 - 685ms/epoch - 2ms/step\n",
            "Epoch 13/30\n",
            "360/360 - 1s - loss: -1.4238e+08 - accuracy: 0.2521 - val_loss: 122466.3828 - val_accuracy: 0.4000 - 610ms/epoch - 2ms/step\n",
            "Epoch 14/30\n",
            "360/360 - 1s - loss: -1.7185e+08 - accuracy: 0.2476 - val_loss: 144894.4531 - val_accuracy: 0.3284 - 650ms/epoch - 2ms/step\n",
            "Epoch 15/30\n",
            "360/360 - 1s - loss: -2.0475e+08 - accuracy: 0.2509 - val_loss: 169802.1094 - val_accuracy: 0.3086 - 633ms/epoch - 2ms/step\n",
            "Epoch 16/30\n",
            "360/360 - 1s - loss: -2.4098e+08 - accuracy: 0.2489 - val_loss: 194941.7031 - val_accuracy: 0.4044 - 582ms/epoch - 2ms/step\n",
            "Epoch 17/30\n",
            "360/360 - 1s - loss: -2.8098e+08 - accuracy: 0.2517 - val_loss: 224163.0156 - val_accuracy: 0.4052 - 606ms/epoch - 2ms/step\n",
            "Epoch 18/30\n",
            "360/360 - 1s - loss: -3.2469e+08 - accuracy: 0.2481 - val_loss: 254319.2656 - val_accuracy: 0.3315 - 622ms/epoch - 2ms/step\n",
            "Epoch 19/30\n",
            "360/360 - 1s - loss: -3.7233e+08 - accuracy: 0.2490 - val_loss: 288331.3438 - val_accuracy: 0.3354 - 683ms/epoch - 2ms/step\n",
            "Epoch 20/30\n",
            "360/360 - 1s - loss: -4.2417e+08 - accuracy: 0.2534 - val_loss: 323471.0000 - val_accuracy: 0.3049 - 680ms/epoch - 2ms/step\n",
            "Epoch 21/30\n",
            "360/360 - 1s - loss: -4.7945e+08 - accuracy: 0.2495 - val_loss: 361043.9688 - val_accuracy: 0.3404 - 874ms/epoch - 2ms/step\n",
            "Epoch 22/30\n",
            "360/360 - 1s - loss: -5.3736e+08 - accuracy: 0.2484 - val_loss: 401604.9375 - val_accuracy: 0.3320 - 978ms/epoch - 3ms/step\n",
            "Epoch 23/30\n",
            "360/360 - 1s - loss: -6.0016e+08 - accuracy: 0.2549 - val_loss: 445607.1875 - val_accuracy: 0.3313 - 932ms/epoch - 3ms/step\n",
            "Epoch 24/30\n",
            "360/360 - 1s - loss: -6.6711e+08 - accuracy: 0.2461 - val_loss: 488659.9375 - val_accuracy: 0.3344 - 602ms/epoch - 2ms/step\n",
            "Epoch 25/30\n",
            "360/360 - 1s - loss: -7.3883e+08 - accuracy: 0.2499 - val_loss: 537601.3750 - val_accuracy: 0.4076 - 624ms/epoch - 2ms/step\n",
            "Epoch 26/30\n",
            "360/360 - 1s - loss: -8.1538e+08 - accuracy: 0.2475 - val_loss: 588007.1875 - val_accuracy: 0.3318 - 587ms/epoch - 2ms/step\n",
            "Epoch 27/30\n",
            "360/360 - 1s - loss: -8.9659e+08 - accuracy: 0.2514 - val_loss: 640378.8750 - val_accuracy: 0.3323 - 604ms/epoch - 2ms/step\n",
            "Epoch 28/30\n",
            "360/360 - 1s - loss: -9.8270e+08 - accuracy: 0.2501 - val_loss: 697198.0000 - val_accuracy: 0.3117 - 583ms/epoch - 2ms/step\n",
            "Epoch 29/30\n",
            "360/360 - 1s - loss: -1.0736e+09 - accuracy: 0.2528 - val_loss: 755493.2500 - val_accuracy: 0.3326 - 606ms/epoch - 2ms/step\n",
            "Epoch 30/30\n",
            "360/360 - 1s - loss: -1.1665e+09 - accuracy: 0.2535 - val_loss: 818065.8750 - val_accuracy: 0.3076 - 655ms/epoch - 2ms/step\n"
          ]
        }
      ]
    },
    {
      "cell_type": "markdown",
      "source": [
        "### 7. Model evaluation"
      ],
      "metadata": {
        "id": "BpzNzwcYrbwU"
      }
    },
    {
      "cell_type": "code",
      "source": [
        "score = model.evaluate(x_test_dataset, y_test)\n",
        "print(f'Test accuracy: {score[1]*100} %')\n",
        "print('Test loss:', score[0])"
      ],
      "metadata": {
        "id": "U7FfurA9reB0",
        "colab": {
          "base_uri": "https://localhost:8080/"
        },
        "outputId": "515c6dd3-9a64-46fb-b543-03617919455d"
      },
      "execution_count": 23,
      "outputs": [
        {
          "output_type": "stream",
          "name": "stdout",
          "text": [
            "120/120 [==============================] - 0s 1ms/step - loss: 818065.8750 - accuracy: 0.3076\n",
            "Test accuracy: 30.75520694255829 %\n",
            "Test loss: 818065.875\n"
          ]
        }
      ]
    },
    {
      "cell_type": "code",
      "source": [
        "model.summary()"
      ],
      "metadata": {
        "id": "6Y4tQz4DkSsv",
        "colab": {
          "base_uri": "https://localhost:8080/"
        },
        "outputId": "2da71497-4fdc-435d-b187-3d43f3f04afd"
      },
      "execution_count": 24,
      "outputs": [
        {
          "output_type": "stream",
          "name": "stdout",
          "text": [
            "Model: \"sequential_1\"\n",
            "_________________________________________________________________\n",
            " Layer (type)                Output Shape              Param #   \n",
            "=================================================================\n",
            " layer1 (Dense)              (None, 120)               1080      \n",
            "                                                                 \n",
            " layer2 (Dense)              (None, 64)                7744      \n",
            "                                                                 \n",
            " layer3 (Dense)              (None, 8)                 520       \n",
            "                                                                 \n",
            "=================================================================\n",
            "Total params: 9,344\n",
            "Trainable params: 9,344\n",
            "Non-trainable params: 0\n",
            "_________________________________________________________________\n"
          ]
        }
      ]
    },
    {
      "cell_type": "markdown",
      "source": [
        "### 8. Display loss function during the training process and accuracy"
      ],
      "metadata": {
        "id": "2c_an3ciseD2"
      }
    },
    {
      "cell_type": "code",
      "source": [
        "plt.figure()\n",
        "plt.plot(history.history['loss'])\n",
        "#plt.plot(history.history['val_loss'])\n",
        "plt.xlabel('nb epochs')\n",
        "plt.ylabel('loss')\n",
        "plt.title('test loss')\n",
        "\n",
        "# plt.figure()\n",
        "# plt.plot(history.history['loss'])\n",
        "# plt.xlabel('nb epochs')\n",
        "# plt.ylabel('loss')\n",
        "\n",
        "plt.figure()\n",
        "plt.plot(history.history['accuracy'])\n",
        "#plt.plot(history.history['val_accuracy'])\n",
        "plt.xlabel('nb epochs')\n",
        "plt.ylabel('accuracy')\n",
        "plt.title('test accuracy')\n",
        "\n",
        "# plt.figure()\n",
        "# plt.plot(history.history['accuracy'])\n",
        "# plt.xlabel('nb epochs')\n",
        "# plt.ylabel('accuracy')\n"
      ],
      "metadata": {
        "id": "HY5YacqFsucw",
        "colab": {
          "base_uri": "https://localhost:8080/",
          "height": 962
        },
        "outputId": "074bfa40-4651-4f9c-e17b-fe8b7df2e5d4"
      },
      "execution_count": 25,
      "outputs": [
        {
          "output_type": "execute_result",
          "data": {
            "text/plain": [
              "Text(0.5, 1.0, 'test accuracy')"
            ]
          },
          "metadata": {},
          "execution_count": 25
        },
        {
          "output_type": "display_data",
          "data": {
            "text/plain": [
              "<Figure size 640x480 with 1 Axes>"
            ],
            "image/png": "[encoded data removed]"
          },
          "metadata": {}
        },
        {
          "output_type": "display_data",
          "data": {
            "text/plain": [
              "<Figure size 640x480 with 1 Axes>"
            ],
            "image/png": "[encoded data removed]"
          },
          "metadata": {}
        }
      ]
    },
    {
      "cell_type": "markdown",
      "source": [
        "### 9. Model predictions"
      ],
      "metadata": {
        "id": "csINKRapMR9c"
      }
    },
    {
      "cell_type": "code",
      "source": [
        "y_test = model.predict(x_test_dataset)\n"
      ],
      "metadata": {
        "id": "kuWC0X7gMSx7",
        "colab": {
          "base_uri": "https://localhost:8080/"
        },
        "outputId": "7b7e8e76-c856-4d23-8b64-8297f5aa27ed"
      },
      "execution_count": 26,
      "outputs": [
        {
          "output_type": "stream",
          "name": "stdout",
          "text": [
            "120/120 [==============================] - 0s 1ms/step\n"
          ]
        }
      ]
    },
    {
      "cell_type": "code",
      "source": [
        "y_test_pred = np.argmax(y_test,axis = 1) + 1\n",
        "y_test_pred = pd.DataFrame(y_test_pred, columns=['target']).to_csv('/content/drive/MyDrive/Colab Notebooks/prediction.csv',index_label='id' )"
      ],
      "metadata": {
        "id": "AMVgvjRPzqTf"
      },
      "execution_count": 27,
      "outputs": []
    }
  ]
}